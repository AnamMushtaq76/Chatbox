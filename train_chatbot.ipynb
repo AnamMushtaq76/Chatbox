{
 "cells": [
  {
   "cell_type": "code",
   "execution_count": 1,
   "metadata": {},
   "outputs": [],
   "source": [
    "import os"
   ]
  },
  {
   "cell_type": "code",
   "execution_count": 2,
   "metadata": {},
   "outputs": [
    {
     "data": {
      "text/plain": [
       "['ai.yml',\n",
       " 'botprofile.yml',\n",
       " 'computers.yml',\n",
       " 'conversations.yml',\n",
       " 'emotion.yml',\n",
       " 'food.yml',\n",
       " 'gossip.yml',\n",
       " 'greetings.yml',\n",
       " 'health.yml',\n",
       " 'history.yml',\n",
       " 'humor.yml',\n",
       " 'literature.yml',\n",
       " 'money.yml',\n",
       " 'movies.yml',\n",
       " 'politics.yml',\n",
       " 'psychology.yml',\n",
       " 'science.yml',\n",
       " 'sports.yml',\n",
       " 'trivia.yml',\n",
       " 'weather.yaml']"
      ]
     },
     "execution_count": 2,
     "metadata": {},
     "output_type": "execute_result"
    }
   ],
   "source": [
    "os.listdir('english')"
   ]
  },
  {
   "cell_type": "code",
   "execution_count": 3,
   "metadata": {},
   "outputs": [],
   "source": [
    "from chatterbot import ChatBot"
   ]
  },
  {
   "cell_type": "code",
   "execution_count": 4,
   "metadata": {},
   "outputs": [],
   "source": [
    "from chatterbot.trainers import ListTrainer"
   ]
  },
  {
   "cell_type": "code",
   "execution_count": 5,
   "metadata": {},
   "outputs": [
    {
     "name": "stdout",
     "output_type": "stream",
     "text": [
      "\r",
      "List Trainer: [                    ] 0%"
     ]
    },
    {
     "name": "stderr",
     "output_type": "stream",
     "text": [
      "[nltk_data] Downloading package averaged_perceptron_tagger to\n",
      "[nltk_data]     C:\\Users\\Ehtisham\\AppData\\Roaming\\nltk_data...\n",
      "[nltk_data]   Package averaged_perceptron_tagger is already up-to-\n",
      "[nltk_data]       date!\n",
      "[nltk_data] Downloading package punkt to\n",
      "[nltk_data]     C:\\Users\\Ehtisham\\AppData\\Roaming\\nltk_data...\n",
      "[nltk_data]   Package punkt is already up-to-date!\n",
      "[nltk_data] Downloading package stopwords to\n",
      "[nltk_data]     C:\\Users\\Ehtisham\\AppData\\Roaming\\nltk_data...\n",
      "[nltk_data]   Package stopwords is already up-to-date!\n"
     ]
    },
    {
     "name": "stdout",
     "output_type": "stream",
     "text": [
      "List Trainer: [####################] 100%\n",
      "Training completed\n",
      "List Trainer: [####################] 100%\n",
      "Training completed\n",
      "List Trainer: [####################] 100%\n",
      "Training completed\n",
      "List Trainer: [####################] 100%\n",
      "Training completed\n",
      "List Trainer: [####################] 100%\n",
      "Training completed\n",
      "List Trainer: [####################] 100%\n",
      "Training completed\n",
      "List Trainer: [####################] 100%\n",
      "Training completed\n",
      "List Trainer: [####################] 100%\n",
      "Training completed\n",
      "List Trainer: [####################] 100%\n",
      "Training completed\n",
      "List Trainer: [####################] 100%\n",
      "Training completed\n",
      "List Trainer: [####################] 100%\n",
      "Training completed\n",
      "List Trainer: [####################] 100%\n",
      "Training completed\n",
      "List Trainer: [####################] 100%\n",
      "Training completed\n",
      "List Trainer: [####################] 100%\n",
      "Training completed\n",
      "List Trainer: [####################] 100%\n",
      "Training completed\n",
      "List Trainer: [####################] 100%\n",
      "Training completed\n",
      "List Trainer: [####################] 100%\n",
      "Training completed\n",
      "List Trainer: [####################] 100%\n",
      "Training completed\n",
      "List Trainer: [####################] 100%\n",
      "Training completed\n",
      "List Trainer: [####################] 100%\n",
      "Training completed\n"
     ]
    }
   ],
   "source": [
    "# initilize chatbot\n",
    "mybot = ChatBot('bot',storage_adapter='chatterbot.storage.SQLStorageAdapter',\n",
    "                      trainer='chatterbot.trainers.ListTrainer')\n",
    "\n",
    "for files in os.listdir('english') :\n",
    "\n",
    "    data = open(r'english/'+files,).readlines()\n",
    "\n",
    "    trainer = ListTrainer(mybot)\n",
    "    trainer.train(data)\n",
    "    print(\"Training completed\")"
   ]
  },
  {
   "cell_type": "code",
   "execution_count": 6,
   "metadata": {},
   "outputs": [],
   "source": [
    "import json"
   ]
  },
  {
   "cell_type": "code",
   "execution_count": 7,
   "metadata": {},
   "outputs": [],
   "source": [
    "import requests"
   ]
  },
  {
   "cell_type": "code",
   "execution_count": 8,
   "metadata": {},
   "outputs": [],
   "source": [
    "def getResponse(user_input):\n",
    "    api_url = \"https://api.openweathermap.org/data/2.5/weather\"\n",
    "    r = requests.post(url = api_url, params = {'q':user_input, 'APPID':'c2b5aa85cc6bb0bf577456f468c78b21', 'units':'metric'})\n",
    "    if r.status_code == 200:\n",
    "        response = json.loads(r.content)\n",
    "        temp = response['main']['temp']\n",
    "        return str(temp)\n",
    "    return 'I was not able to get the temperature :-(!'"
   ]
  },
  {
   "cell_type": "code",
   "execution_count": 10,
   "metadata": {},
   "outputs": [
    {
     "name": "stdout",
     "output_type": "stream",
     "text": [
      "You: hello\n",
      "ChatBot : Hi\n",
      "You: weather\n",
      "City Namequetta\n",
      "ChatBot : The temperature is 20.47\n",
      "You: current temp\n",
      "City Namekarachi\n",
      "ChatBot : The temperature is 31\n",
      "You: what is ai\n",
      "ChatBot : - - Greetings!\n",
      "You: food\n",
      "ChatBot : - - do you drink\n",
      "You: yes\n",
      "ChatBot : Do you feel?\n",
      "You: no\n",
      "ChatBot : Should I be? Did something happen?\n",
      "You: bye\n",
      "ChatBot : - - Have you ever love\n",
      "bye\n"
     ]
    }
   ],
   "source": [
    "while True :\n",
    "\n",
    "    message = input('You: ')\n",
    "\n",
    "    if message.strip() != 'Bye':\n",
    "        \n",
    "#         if ['weather','today','current','current weather','today temperature'].any(message):\n",
    "        if any(word in message for word in ['weather','today','current','current weather','today temperature']):\n",
    "            ip=input(\"City Name\")\n",
    "            replay = f\"The temperature is {getResponse(ip)}\"\n",
    "            print('ChatBot :',replay)\n",
    "        else:\n",
    "            \n",
    "\n",
    "            replay = mybot.get_response(message)\n",
    "\n",
    "\n",
    "\n",
    "            print('ChatBot :',replay)\n",
    "\n",
    "    if message.strip()=='bye':\n",
    "\n",
    "        print('bye')\n",
    "\n",
    "        break"
   ]
  },
  {
   "cell_type": "code",
   "execution_count": 9,
   "metadata": {},
   "outputs": [],
   "source": []
  },
  {
   "cell_type": "code",
   "execution_count": null,
   "metadata": {},
   "outputs": [],
   "source": []
  },
  {
   "cell_type": "code",
   "execution_count": null,
   "metadata": {},
   "outputs": [],
   "source": []
  },
  {
   "cell_type": "code",
   "execution_count": null,
   "metadata": {},
   "outputs": [],
   "source": []
  },
  {
   "cell_type": "code",
   "execution_count": null,
   "metadata": {},
   "outputs": [],
   "source": []
  },
  {
   "cell_type": "code",
   "execution_count": null,
   "metadata": {},
   "outputs": [],
   "source": []
  },
  {
   "cell_type": "code",
   "execution_count": null,
   "metadata": {},
   "outputs": [],
   "source": []
  },
  {
   "cell_type": "code",
   "execution_count": null,
   "metadata": {},
   "outputs": [],
   "source": []
  },
  {
   "cell_type": "code",
   "execution_count": null,
   "metadata": {},
   "outputs": [],
   "source": []
  },
  {
   "cell_type": "code",
   "execution_count": null,
   "metadata": {},
   "outputs": [],
   "source": []
  },
  {
   "cell_type": "code",
   "execution_count": 50,
   "metadata": {},
   "outputs": [],
   "source": []
  },
  {
   "cell_type": "code",
   "execution_count": null,
   "metadata": {},
   "outputs": [],
   "source": []
  },
  {
   "cell_type": "code",
   "execution_count": null,
   "metadata": {},
   "outputs": [],
   "source": []
  },
  {
   "cell_type": "code",
   "execution_count": null,
   "metadata": {},
   "outputs": [],
   "source": []
  }
 ],
 "metadata": {
  "kernelspec": {
   "display_name": "Python 3",
   "language": "python",
   "name": "python3"
  },
  "language_info": {
   "codemirror_mode": {
    "name": "ipython",
    "version": 3
   },
   "file_extension": ".py",
   "mimetype": "text/x-python",
   "name": "python",
   "nbconvert_exporter": "python",
   "pygments_lexer": "ipython3",
   "version": "3.7.6"
  }
 },
 "nbformat": 4,
 "nbformat_minor": 4
}
